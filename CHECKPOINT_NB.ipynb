{
 "cells": [
  {
   "cell_type": "markdown",
   "metadata": {},
   "source": [
    "# Imports and API KEY"
   ]
  },
  {
   "cell_type": "code",
   "execution_count": null,
   "metadata": {},
   "outputs": [
    {
     "data": {
      "text/plain": [
       "'df391633-9ecd-44ae-9d43-4e332acbf082'"
      ]
     },
     "execution_count": 19,
     "metadata": {},
     "output_type": "execute_result"
    }
   ],
   "source": [
    "import time\n",
    "import os\n",
    "import openai\n",
    "import random\n",
    "import numpy as np\n",
    "from matplotlib import pyplot as plt\n",
    "from dotenv import load_dotenv\n",
    "\n",
    "# Load the .env file\n",
    "load_dotenv()\n",
    "API_KEY = os.environ.get(\"SAMBANOVA_API_KEY\")"
   ]
  },
  {
   "cell_type": "markdown",
   "metadata": {},
   "source": [
    "# Testing Different LLAMA Models and their performance"
   ]
  },
  {
   "cell_type": "code",
   "execution_count": null,
   "metadata": {},
   "outputs": [
    {
     "name": "stdout",
     "output_type": "stream",
     "text": [
      "Accuracy for Meta-Llama-3.2-1B-Instruct with direct prompting: 22.22%\n",
      "Accuracy for Meta-Llama-3.2-3B-Instruct with direct prompting: 38.89%\n",
      "Accuracy for Meta-Llama-3.1-8B-Instruct with direct prompting: 55.56%\n"
     ]
    }
   ],
   "source": [
    "client = openai.OpenAI(api_key=API_KEY, base_url=\"https://api.sambanova.ai/v1\")\n",
    "\n",
    "# Load Dataset\n",
    "def load_data():\n",
    "    with open(r'Data\\NYT-Topics\\classes.txt', 'r') as f:\n",
    "        classes = [line.strip() for line in f]\n",
    "\n",
    "    with open(r'Data\\NYT-Topics\\dataset.txt', 'r') as f:\n",
    "        data = [line.strip().split('\\t') for line in f]\n",
    "\n",
    "    with open(r'Data\\NYT-Topics\\labels.txt', 'r') as f:\n",
    "        labels = [line.strip() for line in f]\n",
    "\n",
    "    data_by_class = {cls: [] for cls in classes}\n",
    "    for i, entry in enumerate(data):\n",
    "        text = entry[0]\n",
    "        cls =  classes[int(labels[i])]\n",
    "        if cls in data_by_class:\n",
    "            data_by_class[cls].append(text)\n",
    "\n",
    "    return data_by_class\n",
    "\n",
    "# Sample Entries from Class\n",
    "def sample_data(data_by_class, num_samples=10):\n",
    "    test_samples = []\n",
    "    labels = []\n",
    "    for cls, texts in data_by_class.items():\n",
    "        test_samples.extend(random.sample(texts, min(num_samples, len(texts))))\n",
    "        labels += [cls] * min(num_samples, len(texts))\n",
    "    return test_samples, labels\n",
    "\n",
    "# Estimate Number of Tokens\n",
    "def estimate_tokens(text):\n",
    "    return len(text.split())  # word count\n",
    "\n",
    "# Prompting Methods\n",
    "def direct_prompt(sample):\n",
    "    return f\"{sample}\\nClassify this text.\"\n",
    "\n",
    "# Call API and Calculate Accuracy\n",
    "def evaluate_prompts(test_samples, prompting_method, labels, model_name):\n",
    "    correct_predictions = 0\n",
    "    total_samples = len(test_samples)\n",
    "    \n",
    "    for i, sample in enumerate(test_samples):\n",
    "        prompt = \"\"\n",
    "        \n",
    "        if prompting_method == \"direct\":\n",
    "            prompt = direct_prompt(sample)\n",
    "        elif prompting_method == \"chain_of_thought\":\n",
    "            prompt = \"LATER_IMPLEMENT\"\n",
    "        elif prompting_method == \"few_shot\":\n",
    "            prompt = \"LATER_IMPLEMENT\"\n",
    "        \n",
    "        # Estimate tokens and truncate if needed\n",
    "        token_count = estimate_tokens(prompt)\n",
    "\n",
    "        if token_count > 512:  \n",
    "            prompt = ' '.join(prompt.split()[:512])  \n",
    "\n",
    "        while True:  \n",
    "            try:\n",
    "                response = client.chat.completions.create(\n",
    "                    model=model_name,  # Use the passed model name\n",
    "                    messages=[\n",
    "                        {\"role\": \"system\", \"content\": \"You are trying to classify a text. Your options are: [business, politics, sports, health, education, estate, arts, science, technology]. Just type the class name.\"},\n",
    "                        {\"role\": \"user\", \"content\": prompt}\n",
    "                    ],\n",
    "                    temperature=0.1,\n",
    "                    top_p=0.1\n",
    "                )\n",
    "\n",
    "                predicted_class = response.choices[0].message.content.strip()\n",
    "                actual_label = labels[i] \n",
    "\n",
    "                if predicted_class == actual_label:\n",
    "                    correct_predictions += 1\n",
    "\n",
    "                time.sleep(1)  \n",
    "                break  \n",
    "            except Exception as e:\n",
    "                print(\"Rate limit exceeded. Retrying after a short pause...\")\n",
    "                time.sleep(15)  \n",
    "\n",
    "    accuracy = correct_predictions / total_samples\n",
    "    return accuracy\n",
    "\n",
    "if __name__ == \"__main__\":\n",
    "    data_by_class = load_data()\n",
    "    test_samples, labels = sample_data(data_by_class, num_samples=10)\n",
    "\n",
    "    models = ['Meta-Llama-3.2-1B-Instruct', 'Meta-Llama-3.2-3B-Instruct', 'Meta-Llama-3.1-8B-Instruct']\n",
    "    prompting_methods = [\"direct\"]\n",
    "    \n",
    "    # To Hold Results\n",
    "    results = {model: [] for model in models}\n",
    "\n",
    "    for model in models:\n",
    "        for method in prompting_methods:\n",
    "            accuracy = evaluate_prompts(test_samples, method, labels, model)\n",
    "            results[model].append(accuracy)\n",
    "            print(f\"Accuracy for {model} with {method} prompting: {accuracy:.2%}\")"
   ]
  },
  {
   "cell_type": "markdown",
   "metadata": {},
   "source": [
    "# Compare Model Accuracy"
   ]
  },
  {
   "cell_type": "code",
   "execution_count": null,
   "metadata": {},
   "outputs": [
    {
     "data": {
      "image/png": "[encoded data removed]",
      "text/plain": [
       "<Figure size 640x480 with 1 Axes>"
      ]
     },
     "metadata": {},
     "output_type": "display_data"
    }
   ],
   "source": [
    "bar_width = 0.25  \n",
    "models_condensed = [\"LLAMA-1B\", \"LLAMA-3B\", \"LLAMA-8B\"]\n",
    "x = np.arange(len(models))  # The label locations\n",
    "\n",
    "for method_index, method in enumerate(prompting_methods):\n",
    "    accuracies = [results[model][method_index] for model in models]\n",
    "    plt.bar(x + method_index * bar_width, accuracies, width=bar_width, label=method)\n",
    "\n",
    "plt.title('Model Accuracy Comparison')\n",
    "plt.xlabel('Models')\n",
    "plt.ylabel('Accuracy')\n",
    "plt.xticks(x, models_condensed)  \n",
    "plt.ylim(0, 1)  \n",
    "plt.legend()\n",
    "plt.grid(axis='y')  \n",
    "plt.tight_layout()\n",
    "plt.show()"
   ]
  },
  {
   "cell_type": "code",
   "execution_count": null,
   "metadata": {},
   "outputs": [],
   "source": []
  }
 ],
 "metadata": {
  "kernelspec": {
   "display_name": "bolna",
   "language": "python",
   "name": "python3"
  },
  "language_info": {
   "codemirror_mode": {
    "name": "ipython",
    "version": 3
   },
   "file_extension": ".py",
   "mimetype": "text/x-python",
   "name": "python",
   "nbconvert_exporter": "python",
   "pygments_lexer": "ipython3",
   "version": "3.10.15"
  }
 },
 "nbformat": 4,
 "nbformat_minor": 2
}
